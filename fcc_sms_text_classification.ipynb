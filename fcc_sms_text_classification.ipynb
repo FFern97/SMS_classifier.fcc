{
  "cells": [
    {
      "cell_type": "code",
      "execution_count": null,
      "metadata": {
        "id": "8RZOuS9LWQvv",
        "collapsed": true
      },
      "outputs": [],
      "source": [
        "# import libraries\n",
        "import tensorflow as tf\n",
        "import pandas as pd\n",
        "from tensorflow import keras\n",
        "import tensorflow_datasets as tfds\n",
        "import numpy as np\n",
        "import matplotlib.pyplot as plt\n",
        "from tensorflow.keras import regularizers\n",
        "from imblearn.over_sampling import RandomOverSampler\n",
        "\n",
        "\n",
        "\n",
        "print(tf.__version__)"
      ]
    },
    {
      "cell_type": "code",
      "execution_count": null,
      "metadata": {
        "id": "lMHwYXHXCar3",
        "collapsed": true
      },
      "outputs": [],
      "source": [
        "# get data files\n",
        "!wget https://cdn.freecodecamp.org/project-data/sms/train-data.tsv\n",
        "!wget https://cdn.freecodecamp.org/project-data/sms/valid-data.tsv\n",
        "\n",
        "train_file_path = \"train-data.tsv\"\n",
        "test_file_path = \"valid-data.tsv\""
      ]
    },
    {
      "cell_type": "code",
      "source": [
        "# Cargar datos de entrenamiento y validación\n",
        "train_data = pd.read_csv(train_file_path, sep='\\t', header=None, names=['label', 'message'])\n",
        "valid_data = pd.read_csv(test_file_path, sep='\\t', header=None, names=['label', 'message'])\n",
        "\n"
      ],
      "metadata": {
        "id": "LglOn2dzgFfw"
      },
      "execution_count": null,
      "outputs": []
    },
    {
      "cell_type": "code",
      "source": [
        "# Convertir etiquetas a valores numericos\n",
        "train_data['label'] = train_data['label'].map({'ham': 0, 'spam': 1})\n",
        "valid_data['label'] = valid_data['label'].map({'ham': 0, 'spam': 1})"
      ],
      "metadata": {
        "id": "FfNSogZ0gFYQ"
      },
      "execution_count": null,
      "outputs": []
    },
    {
      "cell_type": "code",
      "source": [
        "# Tokenización y secuenciación\n",
        "vocab_size = 10000\n",
        "max_length = 120\n",
        "\n",
        "tokenizer = tf.keras.preprocessing.text.Tokenizer(num_words=vocab_size, oov_token='<OOV>')\n",
        "tokenizer.fit_on_texts(train_data['message'])\n"
      ],
      "metadata": {
        "id": "tNQrL2UsgXCu"
      },
      "execution_count": null,
      "outputs": []
    },
    {
      "cell_type": "code",
      "source": [
        "# Convertir textos a secuencias\n",
        "train_sequences = tokenizer.texts_to_sequences(train_data['message'])\n",
        "valid_sequences = tokenizer.texts_to_sequences(valid_data['message'])"
      ],
      "metadata": {
        "id": "w0iy_DETgXAH"
      },
      "execution_count": null,
      "outputs": []
    },
    {
      "cell_type": "code",
      "source": [
        "# Padding de secuencias\n",
        "train_padded = tf.keras.preprocessing.sequence.pad_sequences(train_sequences, padding='post', maxlen=100)\n",
        "valid_padded = tf.keras.preprocessing.sequence.pad_sequences(valid_sequences, padding='post', maxlen=100)"
      ],
      "metadata": {
        "id": "-7NUtSYGgW9H"
      },
      "execution_count": null,
      "outputs": []
    },
    {
      "cell_type": "code",
      "source": [
        "# Convertir etiquetas a numpy arrays\n",
        "train_labels = np.array(train_data['label'])\n",
        "valid_labels = np.array(valid_data['label'])"
      ],
      "metadata": {
        "id": "AsX3CvKigkqC"
      },
      "execution_count": null,
      "outputs": []
    },
    {
      "cell_type": "code",
      "source": [
        "# Sobremuestreo\n",
        "ros = RandomOverSampler(random_state=42)\n",
        "train_padded_resampled, train_labels_resampled = ros.fit_resample(train_padded, train_labels)"
      ],
      "metadata": {
        "id": "PnCskdy21gr4"
      },
      "execution_count": null,
      "outputs": []
    },
    {
      "cell_type": "code",
      "source": [
        "# Definir el modelo\n",
        "model = tf.keras.Sequential([\n",
        "    tf.keras.layers.Embedding(input_dim=vocab_size, output_dim=16, input_length=max_length),\n",
        "    tf.keras.layers.Conv1D(128, 5, activation='relu'),\n",
        "    tf.keras.layers.MaxPooling1D(pool_size=2),\n",
        "    tf.keras.layers.LSTM(64, return_sequences=True),\n",
        "    tf.keras.layers.LSTM(32),\n",
        "    tf.keras.layers.Dense(24, activation='relu'),\n",
        "    tf.keras.layers.Dense(1, activation='sigmoid')\n",
        "])\n",
        "\n",
        "# Compilar el modelo\n",
        "optimizer = tf.keras.optimizers.Adam(learning_rate=0.0005)\n",
        "model.compile(loss='binary_crossentropy', optimizer=optimizer, metrics=['accuracy'])\n",
        "\n"
      ],
      "metadata": {
        "id": "0GYJmBA24N_1"
      },
      "execution_count": null,
      "outputs": []
    },
    {
      "cell_type": "code",
      "source": [
        "# Entrenar el modelo\n",
        "history = model.fit(train_padded_resampled, train_labels_resampled, epochs=30, validation_data=(valid_padded, valid_labels), verbose=2, batch_size=64)\n"
      ],
      "metadata": {
        "id": "mm0X03RXgtZO"
      },
      "execution_count": null,
      "outputs": []
    },
    {
      "cell_type": "code",
      "source": [],
      "metadata": {
        "id": "jSnS9D6np7QN"
      },
      "execution_count": null,
      "outputs": []
    },
    {
      "cell_type": "code",
      "execution_count": null,
      "metadata": {
        "id": "J9tD9yACG6M9"
      },
      "outputs": [],
      "source": [
        "def predict_message(pred_text):\n",
        "\n",
        "    seq = tokenizer.texts_to_sequences([pred_text])\n",
        "    padded = tf.keras.preprocessing.sequence.pad_sequences(seq, padding='post', maxlen=max_length)\n",
        "\n",
        "    prediction = model.predict(padded)[0][0]\n",
        "\n",
        "    label = 'spam' if prediction > 0.5 else 'ham'\n",
        "\n",
        "    return [float(prediction), label]\n",
        "\n",
        "pred_text = \"how are you doing today?\"\n",
        "prediction = predict_message(pred_text)\n",
        "print(prediction)\n",
        "\n"
      ]
    },
    {
      "cell_type": "code",
      "source": [],
      "metadata": {
        "id": "oISCqsDYbgWq"
      },
      "execution_count": null,
      "outputs": []
    },
    {
      "cell_type": "code",
      "execution_count": null,
      "metadata": {
        "id": "Dxotov85SjsC"
      },
      "outputs": [],
      "source": [
        "# Run this cell to test your function and model. Do not modify contents.\n",
        "def test_predictions():\n",
        "  test_messages = [\"how are you doing today\",\n",
        "                   \"sale today! to stop texts call 98912460324\",\n",
        "                   \"i dont want to go. can we try it a different day? available sat\",\n",
        "                   \"our new mobile video service is live. just install on your phone to start watching.\",\n",
        "                   \"you have won £1000 cash! call to claim your prize.\",\n",
        "                   \"i'll bring it tomorrow. don't forget the milk.\",\n",
        "                   \"wow, is your arm alright. that happened to me one time too\"\n",
        "                  ]\n",
        "\n",
        "  test_answers = [\"ham\", \"spam\", \"ham\", \"spam\", \"spam\", \"ham\", \"ham\"]\n",
        "  passed = True\n",
        "\n",
        "  for msg, ans in zip(test_messages, test_answers):\n",
        "    prediction = predict_message(msg)\n",
        "    if prediction[1] != ans:\n",
        "      passed = False\n",
        "\n",
        "  if passed:\n",
        "    print(\"You passed the challenge. Great job!\")\n",
        "  else:\n",
        "    print(\"You haven't passed yet. Keep trying.\")\n",
        "\n",
        "test_predictions()\n"
      ]
    }
  ],
  "metadata": {
    "colab": {
      "name": "fcc_sms_text_classification.ipynb",
      "private_outputs": true,
      "provenance": []
    },
    "kernelspec": {
      "display_name": "Python 3",
      "name": "python3"
    },
    "language_info": {}
  },
  "nbformat": 4,
  "nbformat_minor": 0
}